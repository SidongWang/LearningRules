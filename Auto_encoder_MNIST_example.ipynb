{
  "nbformat": 4,
  "nbformat_minor": 0,
  "metadata": {
    "colab": {
      "name": "Auto-encoder_MNIST_example.ipynb",
      "provenance": []
    },
    "kernelspec": {
      "name": "python3",
      "display_name": "Python 3"
    }
  },
  "cells": [
    {
      "cell_type": "markdown",
      "metadata": {
        "id": "XY9nbP0W1KDR",
        "colab_type": "text"
      },
      "source": [
        "# Auto-encoder (three-layered CNN) training on MNIST\n",
        "Almost directly from from-tensorflow.ipynb in the Nengo github, we can modify this network like adding new layers or training on new datasets."
      ]
    },
    {
      "cell_type": "markdown",
      "metadata": {
        "id": "820gkJvE19Cd",
        "colab_type": "text"
      },
      "source": [
        "## Import libraries"
      ]
    },
    {
      "cell_type": "code",
      "metadata": {
        "id": "dYOXL-3s1pAf",
        "colab_type": "code",
        "colab": {}
      },
      "source": [
        "%matplotlib inline\n",
        "\n",
        "import warnings\n",
        "\n",
        "import matplotlib.pyplot as plt\n",
        "import numpy as np\n",
        "import tensorflow as tf"
      ],
      "execution_count": null,
      "outputs": []
    },
    {
      "cell_type": "markdown",
      "metadata": {
        "id": "CYuVCRkD15mZ",
        "colab_type": "text"
      },
      "source": [
        "## define network"
      ]
    },
    {
      "cell_type": "code",
      "metadata": {
        "id": "kxI3nTF82EfL",
        "colab_type": "code",
        "colab": {}
      },
      "source": [
        "n_in = 784\n",
        "n_hidden = 64\n",
        "minibatch_size = 50\n",
        "\n",
        "# input\n",
        "tf_a = tf.keras.Input(shape=(n_in,))\n",
        "\n",
        "# first layer\n",
        "tf_b = tf.keras.layers.Dense(\n",
        "    n_hidden, activation=tf.nn.relu,\n",
        "    kernel_initializer=tf.initializers.glorot_uniform()\n",
        ")(tf_a)\n",
        "\n",
        "# second layer\n",
        "tf_c = tf.keras.layers.Dense(\n",
        "    n_in, activation=tf.nn.relu,\n",
        "    kernel_initializer=tf.initializers.glorot_uniform()\n",
        ")(tf_b)"
      ],
      "execution_count": null,
      "outputs": []
    },
    {
      "cell_type": "code",
      "metadata": {
        "id": "XXKsec402Uve",
        "colab_type": "code",
        "colab": {
          "base_uri": "https://localhost:8080/",
          "height": 52
        },
        "outputId": "4ff635ef-ad4a-4afb-98d8-98a1a4651d1d"
      },
      "source": [
        "# download MNIST dataset\n",
        "(train_data, _), (test_data, _) = tf.keras.datasets.mnist.load_data()\n",
        "# flatten images\n",
        "train_data = train_data.reshape((train_data.shape[0], -1))\n",
        "test_data = test_data.reshape((test_data.shape[0], -1))\n",
        "\n",
        "n_epochs = 2"
      ],
      "execution_count": null,
      "outputs": [
        {
          "output_type": "stream",
          "text": [
            "Downloading data from https://storage.googleapis.com/tensorflow/tf-keras-datasets/mnist.npz\n",
            "11493376/11490434 [==============================] - 0s 0us/step\n"
          ],
          "name": "stdout"
        }
      ]
    },
    {
      "cell_type": "markdown",
      "metadata": {
        "id": "nbzhGWXs2et2",
        "colab_type": "text"
      },
      "source": [
        "Traing the model"
      ]
    },
    {
      "cell_type": "code",
      "metadata": {
        "id": "xCwzAlSH2auN",
        "colab_type": "code",
        "colab": {
          "base_uri": "https://localhost:8080/",
          "height": 122
        },
        "outputId": "8b1cffa1-40ab-4a2a-a97c-86bff5a05efc"
      },
      "source": [
        "model = tf.keras.Model(inputs=tf_a, outputs=tf_c)\n",
        "model.compile(optimizer=tf.optimizers.RMSprop(1e-3), \n",
        "              loss=tf.losses.mse)\n",
        "\n",
        "# run training loop\n",
        "model.fit(train_data, train_data, epochs=n_epochs)\n",
        "\n",
        "# evaluate performance on test set\n",
        "print(\"Test error:\", model.evaluate(test_data, test_data))"
      ],
      "execution_count": null,
      "outputs": [
        {
          "output_type": "stream",
          "text": [
            "Epoch 1/2\n",
            "1875/1875 [==============================] - 4s 2ms/step - loss: 1219.6470\n",
            "Epoch 2/2\n",
            "1875/1875 [==============================] - 4s 2ms/step - loss: 863.6456\n",
            "313/313 [==============================] - 0s 1ms/step - loss: 777.0809\n",
            "Test error: 777.0808715820312\n"
          ],
          "name": "stdout"
        }
      ]
    },
    {
      "cell_type": "markdown",
      "metadata": {
        "id": "_sERtXl-2lv3",
        "colab_type": "text"
      },
      "source": [
        "## display example output and input"
      ]
    },
    {
      "cell_type": "code",
      "metadata": {
        "id": "DpIIqb1U2js2",
        "colab_type": "code",
        "colab": {
          "base_uri": "https://localhost:8080/",
          "height": 562
        },
        "outputId": "def9063e-1fc5-49cc-cc81-915b7f95cdf8"
      },
      "source": [
        "no_fig = 88\n",
        "output = model.predict(test_data[[no_fig]])\n",
        "plt.figure()\n",
        "plt.imshow(output[0].reshape((28, 28)));\n",
        "plt.title('example output')\n",
        "plt.figure()\n",
        "plt.imshow(test_data[no_fig].reshape((28, 28)))\n",
        "plt.title('example input')"
      ],
      "execution_count": null,
      "outputs": [
        {
          "output_type": "execute_result",
          "data": {
            "text/plain": [
              "Text(0.5, 1.0, 'example input')"
            ]
          },
          "metadata": {
            "tags": []
          },
          "execution_count": 8
        },
        {
          "output_type": "display_data",
          "data": {
            "image/png": "[encoded data removed]",
            "text/plain": [
              "<Figure size 432x288 with 1 Axes>"
            ]
          },
          "metadata": {
            "tags": [],
            "needs_background": "light"
          }
        },
        {
          "output_type": "display_data",
          "data": {
            "image/png": "[encoded data removed]",
            "text/plain": [
              "<Figure size 432x288 with 1 Axes>"
            ]
          },
          "metadata": {
            "tags": [],
            "needs_background": "light"
          }
        }
      ]
    }
  ]
}