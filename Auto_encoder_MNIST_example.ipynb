{
  "nbformat": 4,
  "nbformat_minor": 0,
  "metadata": {
    "colab": {
      "name": "Auto-encoder_MNIST_example.ipynb",
      "provenance": [],
      "toc_visible": true
    },
    "kernelspec": {
      "name": "python3",
      "display_name": "Python 3"
    }
  },
  "cells": [
    {
      "cell_type": "markdown",
      "metadata": {
        "id": "XY9nbP0W1KDR",
        "colab_type": "text"
      },
      "source": [
        "# Auto-encoder (three-layered CNN) training on MNIST\n",
        "Almost directly from from-tensorflow.ipynb in the Nengo github, we can modify this network like adding new layers or training on new datasets."
      ]
    },
    {
      "cell_type": "markdown",
      "metadata": {
        "id": "820gkJvE19Cd",
        "colab_type": "text"
      },
      "source": [
        "## Import libraries"
      ]
    },
    {
      "cell_type": "code",
      "metadata": {
        "id": "dYOXL-3s1pAf",
        "colab_type": "code",
        "colab": {}
      },
      "source": [
        "%matplotlib inline\n",
        "\n",
        "import warnings\n",
        "\n",
        "import matplotlib.pyplot as plt\n",
        "import numpy as np\n",
        "import tensorflow as tf\n",
        "import sklearn"
      ],
      "execution_count": 9,
      "outputs": []
    },
    {
      "cell_type": "markdown",
      "metadata": {
        "id": "CYuVCRkD15mZ",
        "colab_type": "text"
      },
      "source": [
        "## define network"
      ]
    },
    {
      "cell_type": "code",
      "metadata": {
        "id": "kxI3nTF82EfL",
        "colab_type": "code",
        "colab": {}
      },
      "source": [
        "n_in = 784\n",
        "n_hidden = 64\n",
        "minibatch_size = 50\n",
        "\n",
        "# input\n",
        "tf_a = tf.keras.Input(shape=(n_in,))\n",
        "\n",
        "# first layer\n",
        "tf_b = tf.keras.layers.Dense(\n",
        "    n_hidden, activation=tf.nn.relu,\n",
        "    kernel_initializer=tf.initializers.glorot_uniform()\n",
        ")(tf_a)\n",
        "\n",
        "# second layer\n",
        "tf_c = tf.keras.layers.Dense(\n",
        "    n_in, activation=tf.nn.relu,\n",
        "    kernel_initializer=tf.initializers.glorot_uniform()\n",
        ")(tf_b)"
      ],
      "execution_count": 10,
      "outputs": []
    },
    {
      "cell_type": "code",
      "metadata": {
        "id": "XXKsec402Uve",
        "colab_type": "code",
        "colab": {}
      },
      "source": [
        "# download MNIST dataset\n",
        "(train_data, train_label), (test_data, test_label) = tf.keras.datasets.mnist.load_data()\n",
        "# flatten images\n",
        "train_data = train_data.reshape((train_data.shape[0], -1))\n",
        "test_data = test_data.reshape((test_data.shape[0], -1))\n",
        "\n",
        "n_epochs = 2"
      ],
      "execution_count": 24,
      "outputs": []
    },
    {
      "cell_type": "markdown",
      "metadata": {
        "id": "nbzhGWXs2et2",
        "colab_type": "text"
      },
      "source": [
        "Traing the model"
      ]
    },
    {
      "cell_type": "code",
      "metadata": {
        "id": "xCwzAlSH2auN",
        "colab_type": "code",
        "colab": {
          "base_uri": "https://localhost:8080/",
          "height": 122
        },
        "outputId": "74689b23-0f28-46c3-c3af-78df064cff7c"
      },
      "source": [
        "model = tf.keras.Model(inputs=tf_a, outputs=tf_c)\n",
        "model.compile(optimizer=tf.optimizers.RMSprop(1e-3), \n",
        "              loss=tf.losses.mse)\n",
        "\n",
        "# run training loop\n",
        "model.fit(train_data, train_data, epochs=n_epochs)\n",
        "\n",
        "# evaluate performance on test set\n",
        "print(\"Test error:\", model.evaluate(test_data, test_data))"
      ],
      "execution_count": 12,
      "outputs": [
        {
          "output_type": "stream",
          "text": [
            "Epoch 1/2\n",
            "1875/1875 [==============================] - 4s 2ms/step - loss: 1283.3424\n",
            "Epoch 2/2\n",
            "1875/1875 [==============================] - 4s 2ms/step - loss: 936.8442\n",
            "313/313 [==============================] - 0s 1ms/step - loss: 915.3912\n",
            "Test error: 915.3911743164062\n"
          ],
          "name": "stdout"
        }
      ]
    },
    {
      "cell_type": "markdown",
      "metadata": {
        "id": "_sERtXl-2lv3",
        "colab_type": "text"
      },
      "source": [
        "## display example output and input"
      ]
    },
    {
      "cell_type": "code",
      "metadata": {
        "id": "DpIIqb1U2js2",
        "colab_type": "code",
        "colab": {
          "base_uri": "https://localhost:8080/",
          "height": 562
        },
        "outputId": "490f0357-3b12-4573-849f-bc55af45209d"
      },
      "source": [
        "no_fig = 10\n",
        "output = model.predict(test_data[[no_fig]])\n",
        "plt.figure()\n",
        "plt.imshow(output[0].reshape((28, 28)));\n",
        "plt.title('example output')\n",
        "plt.figure()\n",
        "plt.imshow(test_data[no_fig].reshape((28, 28)))\n",
        "plt.title('example input')"
      ],
      "execution_count": 14,
      "outputs": [
        {
          "output_type": "execute_result",
          "data": {
            "text/plain": [
              "Text(0.5, 1.0, 'example input')"
            ]
          },
          "metadata": {
            "tags": []
          },
          "execution_count": 14
        },
        {
          "output_type": "display_data",
          "data": {
            "image/png": "[encoded data removed]",
            "text/plain": [
              "<Figure size 432x288 with 1 Axes>"
            ]
          },
          "metadata": {
            "tags": [],
            "needs_background": "light"
          }
        },
        {
          "output_type": "display_data",
          "data": {
            "image/png": "[encoded data removed]",
            "text/plain": [
              "<Figure size 432x288 with 1 Axes>"
            ]
          },
          "metadata": {
            "tags": [],
            "needs_background": "light"
          }
        }
      ]
    },
    {
      "cell_type": "markdown",
      "metadata": {
        "id": "Ax7HLNElJEJs",
        "colab_type": "text"
      },
      "source": [
        "## get hidden variable activity"
      ]
    },
    {
      "cell_type": "code",
      "metadata": {
        "id": "qUENxswMJC4h",
        "colab_type": "code",
        "colab": {}
      },
      "source": [
        "model_hide = tf.keras.Model(inputs=tf_a, outputs=tf_b)\n",
        "hid_layer_output = model_hide.predict(test_data)"
      ],
      "execution_count": 22,
      "outputs": []
    },
    {
      "cell_type": "markdown",
      "metadata": {
        "id": "FTSmK7BcOFEt",
        "colab_type": "text"
      },
      "source": [
        "## perform k-means"
      ]
    },
    {
      "cell_type": "code",
      "metadata": {
        "id": "Bef6Fxd_OQfS",
        "colab_type": "code",
        "colab": {}
      },
      "source": [
        "k_means_10 = sklearn.cluster.KMeans(n_clusters=10).fit(hid_layer_output)\n"
      ],
      "execution_count": 23,
      "outputs": []
    },
    {
      "cell_type": "code",
      "metadata": {
        "id": "FX7XW8B-RE-u",
        "colab_type": "code",
        "colab": {
          "base_uri": "https://localhost:8080/",
          "height": 52
        },
        "outputId": "d5df3cf9-f395-4dbc-e59b-6bc8e7c05b89"
      },
      "source": [
        "label_predict = k_means_10.predict(hid_layer_output)\n",
        "ari = sklearn.metrics.adjusted_rand_score(test_label, label_predict)\n",
        "print(f\"Adjusted Rand index = {ari}\")\n",
        "mutual_info = sklearn.metrics.adjusted_mutual_info_score(test_label, label_predict)\n",
        "print(f\"Adjusted Mutual information = {mutual_info}\")"
      ],
      "execution_count": 25,
      "outputs": [
        {
          "output_type": "stream",
          "text": [
            "Adjusted Rand index = 0.2907722179636622\n",
            "Adjusted Mutual information = 0.4359284728561129\n"
          ],
          "name": "stdout"
        }
      ]
    },
    {
      "cell_type": "markdown",
      "metadata": {
        "id": "PnYr9pVPUpR3",
        "colab_type": "text"
      },
      "source": [
        "## Why not train another model from hidden layers ouput to test_label?"
      ]
    }
  ]
}